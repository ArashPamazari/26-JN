{
 "cells": [
  {
   "cell_type": "code",
   "execution_count": 1,
   "id": "d31b2fd9-37fc-4489-bce7-fb11dd7bbc93",
   "metadata": {},
   "outputs": [],
   "source": [
    "import cv2\n",
    "import numpy as np\n",
    "\n",
    "video_cap = cv2.VideoCapture(0)\n",
    "clahe = cv2.createCLAHE(clipLimit=2.0, tileGridSize=(8, 8))\n",
    "\n",
    "while True:\n",
    "    ret, frame = video_cap.read()\n",
    "\n",
    "    if ret == False:\n",
    "        break\n",
    "    gray_frame = cv2.cvtColor(frame, cv2.COLOR_BGR2GRAY)\n",
    "    equ_frame = clahe.apply(gray_frame)\n",
    "    equ_frame = cv2.resize(equ_frame, (500, 500))\n",
    "\n",
    "    cv2.rectangle(equ_frame, (180, 170), (320, 310), (0, 0, 0), 4)\n",
    "\n",
    "    mask = np.ones((29, 29)) / 841\n",
    "\n",
    "    blur_frame = cv2.filter2D(equ_frame, -1, mask)\n",
    "    blur_frame[170:310, 180:320] = equ_frame[170:310, 180:320]\n",
    "    color_detection = blur_frame[170:310, 180:320]\n",
    "\n",
    "    color = ''\n",
    "    if np.average(color_detection) <= 80:\n",
    "        color = 'Black'\n",
    "    elif 80 < np.average(color_detection) <= 120:\n",
    "        color = 'Gray'\n",
    "    else:\n",
    "        color = 'White'\n",
    "\n",
    "    cv2.putText(blur_frame, color, (20, 50), cv2.FONT_HERSHEY_COMPLEX, 1, (0, 0, 0), 2)\n",
    "\n",
    "    cv2.imshow('output', blur_frame)\n",
    "\n",
    "    key = cv2.waitKey(1) & 0xFF\n",
    "    if key == ord('1'):\n",
    "        break\n",
    "\n",
    "video_cap.release()\n",
    "cv2.destroyAllWindows()\n"
   ]
  },
  {
   "cell_type": "code",
   "execution_count": null,
   "id": "0067b3f8-ed4e-411f-97d5-26f5792ed9a5",
   "metadata": {},
   "outputs": [],
   "source": []
  }
 ],
 "metadata": {
  "kernelspec": {
   "display_name": "Python 3 (ipykernel)",
   "language": "python",
   "name": "python3"
  },
  "language_info": {
   "codemirror_mode": {
    "name": "ipython",
    "version": 3
   },
   "file_extension": ".py",
   "mimetype": "text/x-python",
   "name": "python",
   "nbconvert_exporter": "python",
   "pygments_lexer": "ipython3",
   "version": "3.11.2"
  }
 },
 "nbformat": 4,
 "nbformat_minor": 5
}
