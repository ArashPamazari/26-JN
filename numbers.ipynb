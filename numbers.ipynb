{
 "cells": [
  {
   "cell_type": "code",
   "execution_count": 2,
   "id": "05f4c29b-e7d0-4558-af96-a0c6a540273a",
   "metadata": {},
   "outputs": [],
   "source": [
    "import cv2\n",
    "img = cv2.imread('input/mnist.png')\n",
    "img = cv2.resize(img, (0, 0), fx=0.5, fy=0.5)\n",
    "img = cv2.cvtColor(img, cv2.COLOR_BGR2GRAY)\n",
    "\n",
    "rows, cols = img.shape\n",
    "numbers_rows = rows // 50\n",
    "numbers_cols = cols // 100\n",
    "\n",
    "folder = 0\n",
    "nums = 0\n",
    "\n",
    "for i in range(0, rows, numbers_rows):\n",
    "    for j in range(0, cols, numbers_cols):\n",
    "        img_numbres = img[i:i+numbers_rows, j:j+numbers_cols]\n",
    "        if img_numbres.shape == (numbers_rows, numbers_cols):\n",
    "            nums += 1\n",
    "            cv2.imwrite(f'output/numbers/{folder}/{nums}.jpg', img_numbres)\n",
    "            if nums % 500 == 0:\n",
    "                nums = 0\n",
    "                folder += 1"
   ]
  },
  {
   "cell_type": "code",
   "execution_count": null,
   "id": "f084969b-5aa2-4f20-870e-7dc8984dd20c",
   "metadata": {},
   "outputs": [],
   "source": []
  },
  {
   "cell_type": "code",
   "execution_count": null,
   "id": "3c88a500-8f4b-4266-880b-272ba03fa167",
   "metadata": {},
   "outputs": [],
   "source": []
  }
 ],
 "metadata": {
  "kernelspec": {
   "display_name": "Python 3 (ipykernel)",
   "language": "python",
   "name": "python3"
  },
  "language_info": {
   "codemirror_mode": {
    "name": "ipython",
    "version": 3
   },
   "file_extension": ".py",
   "mimetype": "text/x-python",
   "name": "python",
   "nbconvert_exporter": "python",
   "pygments_lexer": "ipython3",
   "version": "3.11.2"
  }
 },
 "nbformat": 4,
 "nbformat_minor": 5
}
