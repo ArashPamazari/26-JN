{
 "cells": [
  {
   "cell_type": "code",
   "execution_count": 6,
   "id": "d083eb82-6894-4e79-a6e2-2067b83ac0ae",
   "metadata": {},
   "outputs": [
    {
     "name": "stderr",
     "output_type": "stream",
     "text": [
      "C:\\Users\\Lenovo\\AppData\\Local\\Temp\\ipykernel_11828\\3523658889.py:38: DeprecationWarning: Starting with ImageIO v3 the behavior of this function will switch to that of iio.v3.imread. To keep the current behavior (and make this warning disappear) use `import imageio.v2 as imageio` or call `imageio.v2.imread` directly.\n",
      "  image = imageio.imread('output/snow/' + files[i])\n"
     ]
    }
   ],
   "source": [
    "import random\n",
    "import os\n",
    "import cv2\n",
    "import imageio\n",
    "\n",
    "img = cv2.imread('input/snow.jpg')\n",
    "\n",
    "row, col, _ = img.shape\n",
    "counter = 100\n",
    "\n",
    "for j in range(30):\n",
    "    SNOWS_LIST = [] \n",
    "\n",
    "    for i in range(700):\n",
    "        x = random.randint(-500, row)\n",
    "        y = random.randint(0, col)\n",
    "        radius = random.randint(2, 3)\n",
    "        move_right_left = random.randint(-1, 1)\n",
    "        move_down = random.randint(4, 5)\n",
    "\n",
    "        snow = [x, y, radius, move_right_left, move_down]\n",
    "\n",
    "        SNOWS_LIST.append(snow)\n",
    "\n",
    "    for snows in SNOWS_LIST:\n",
    "        cv2.circle(img, (snows[1], snows[0]), snows[2], (255, 255, 255), -1)\n",
    "\n",
    "        snows[0] += snows[4]\n",
    "        snows[1] += snows[3]\n",
    "\n",
    "    cv2.imwrite(f'output/snow/{counter}.jpg', img.copy()) \n",
    "    counter += 1\n",
    "\n",
    "files = os.listdir('output/snow')\n",
    "images = []\n",
    "\n",
    "for i in range(len(files)):\n",
    "    image = imageio.imread('output/snow/' + files[i])\n",
    "    images.append(image)\n",
    "\n",
    "imageio.mimsave('snow.gif', images)\n"
   ]
  },
  {
   "cell_type": "code",
   "execution_count": null,
   "id": "d8f42543-e96e-4773-8e3e-c248b6f74f9a",
   "metadata": {},
   "outputs": [],
   "source": []
  }
 ],
 "metadata": {
  "kernelspec": {
   "display_name": "Python 3 (ipykernel)",
   "language": "python",
   "name": "python3"
  },
  "language_info": {
   "codemirror_mode": {
    "name": "ipython",
    "version": 3
   },
   "file_extension": ".py",
   "mimetype": "text/x-python",
   "name": "python",
   "nbconvert_exporter": "python",
   "pygments_lexer": "ipython3",
   "version": "3.11.2"
  }
 },
 "nbformat": 4,
 "nbformat_minor": 5
}
